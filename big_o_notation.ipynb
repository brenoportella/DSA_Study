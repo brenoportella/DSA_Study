{
 "cells": [
  {
   "cell_type": "markdown",
   "metadata": {},
   "source": [
    "# \"BIG O\" NOTATION"
   ]
  },
  {
   "cell_type": "markdown",
   "metadata": {},
   "source": [
    "BIG O Notation serve para compreender tanto a complexidade temporal quanto a complexidade espacial de um algoritmo.\n",
    "\n",
    "\n",
    "#### Complexidade Temporal\n",
    "\n",
    "Dado o input de um algoritmo, tipo um array, o big O vai dizer quanto tempo vai levar para executar uma vez proporcionalmente ao tamanho do input.\n",
    "\n",
    "Percorrer 1 vez. Complexidade de tempo seria BigO(n).\n",
    "Ou seja, o tamanho da complexidade, o tempo necessário, depende do quão grande é o array.\n",
    "\n",
    "#### Complexidade Espacial\n",
    "\n",
    "A complexidade espacial é quanto de espaço na memória será necessário para executar o algoritmo.\n",
    "Se você está procurando um bit na memória, não importa o tamanho do array, você só vai precisar alocar 1 bit de memória para isso.\n",
    "O(1)."
   ]
  },
  {
   "cell_type": "markdown",
   "metadata": {},
   "source": [
    "## O(1) - Constant Time:"
   ]
  },
  {
   "cell_type": "code",
   "execution_count": null,
   "metadata": {},
   "outputs": [],
   "source": [
    "def get_first_element(arr): return arr[0]"
   ]
  },
  {
   "cell_type": "markdown",
   "metadata": {},
   "source": [
    "Não importa o tamanho do array, o tempo de execução desse codigo sempre será o mesmo. portanto O(1)."
   ]
  },
  {
   "cell_type": "markdown",
   "metadata": {},
   "source": [
    "## O(log n) - Logarithmic time:\n",
    "\n",
    "Uma função de busca binária por um elemento especifico em um array ordenado.\n",
    "\n",
    "Se o elemento for 2, por exemplo, teriamos:\n",
    "\n",
    "[1, 2, 3, 4, 5, 6, 7, 8, 9, 10]<br>\n",
    "\n",
    "A busca binária vai ao meio do array arr[5] e vai verificar se o valor que lá está é maior ou menor que 2. se for maior, ela vai ignorar o lado direito da lista (o lado de valores maiores) e vai novamente dividir a metade o array da parte menor, indo para posição arr[3] ou arr[2]. Caso vá para a posição arr[3], ele vai precisar fazer mais uma execução. Caso vá direto para o arr[2], ele encerra a execução.\n",
    "\n",
    "Ou seja, seria necessário entre 2 a 3 execuções.\n",
    "\n",
    "Caso o array fosse de 20 elementos:<br>\n",
    "\n",
    "[1, 2, 3, 4, 5, 6, 7, 8, 9, 10, . . ., 20]<br>\n",
    "\n",
    "A primeira metade seria a arr[10]<br>\n",
    "Depois a arr[5]<br>\n",
    "Depois a arr[3] ou arr[2]<br>\n",
    "\n",
    "Ou seja, seria necessário entre 3 a 4 execuções.\n",
    "\n",
    "O array DOBROU de tamanho, mas o numero de execuções aumentou em apenas 1.\n",
    "\n",
    "log2(10) = 3.321<br>\n",
    "log2(20) = 4.321<br>\n",
    "log2(40) = 5.321<br>"
   ]
  },
  {
   "cell_type": "markdown",
   "metadata": {},
   "source": [
    "Conforme o tamanho do input aumenta em N, o tempo de execução aumenta em log(n)."
   ]
  },
  {
   "cell_type": "markdown",
   "metadata": {},
   "source": [
    "## O(n) - Linear Time:\n",
    "\n",
    "Conforme o input aumenta, o tempo de execução aumenta proporcionalmente.\n",
    "\n",
    "Se a função por exemplo for identificar qual é o maior elemento daquele array, ele vai ter que percorrer todos os itens daquele array.\n",
    "\n",
    "Portanto, vai demorar X para 10 elementos e 2X para 20 elementos.\n",
    "\n"
   ]
  },
  {
   "cell_type": "markdown",
   "metadata": {},
   "source": [
    "## O(n log n) - Linearithmic time:\n",
    "\n",
    "Ex: MergeSort\n",
    "\n",
    "Uma parte do algoritmo escala com log(n) e outra escala apenas com n.\n",
    "\n",
    "Um algoritmo que divida na metade o numero de elementos e procure em uma das listas o maior valor armazenado, depois divide na metade novamente e percorre a procura do maior valor novamente, e repete isso até não ter mais como dividir por 2. A complexidade seria n log(n), porque quanto maior o array, mais tempo de percorrimento, mas tambem ao dividir pela metade para procurar o valor seria por log(n).\n",
    "\n",
    "basicamente uma parte escala com log(n) e outra com n."
   ]
  },
  {
   "cell_type": "markdown",
   "metadata": {},
   "source": [
    "## O(n^2) - Quadratic Time:\n",
    "\n",
    "Um loop do array dentro de outro loop do mesmo array:"
   ]
  },
  {
   "cell_type": "code",
   "execution_count": null,
   "metadata": {},
   "outputs": [],
   "source": [
    "# Python\n",
    "for i in range(n)\n",
    "\tfor j in range (n)"
   ]
  },
  {
   "cell_type": "markdown",
   "metadata": {},
   "source": [
    "Imagine que vamos tentar fazer combinações de todos os elementos do array, usando duplas.\n",
    "\n",
    "[1, 2, 3, 4, 5, 6, 7, 8, 9]<br>\n",
    "Assim teriamos:<br>\n",
    "- 12\n",
    "- 13\n",
    "- 14\n",
    "- 15\n",
    "- ...\n",
    "\n",
    "Portanto, com 10 elementos, a execução é 10x10, porque vai combinar todos os elementos com todos os elementos. 10x10 é 10^2.\n",
    "\n",
    "Se o array tiver 100 posições, então será 100x100, 100^2. e não apenas 10 vezes maior (10 x 10 = 100)."
   ]
  },
  {
   "cell_type": "markdown",
   "metadata": {},
   "source": [
    "## O(2^n) - Exponential Time:\n",
    "\n"
   ]
  },
  {
   "cell_type": "code",
   "execution_count": null,
   "metadata": {},
   "outputs": [],
   "source": [
    "def fibonacci(n):\n",
    "\tif n <= 1:\n",
    "\t\treturn n\n",
    "\telse:\n",
    "\t\treturn fibonacci(n-1) + fibonacci(n-2)\n",
    "\t\n",
    "fibonacci(4)"
   ]
  },
  {
   "cell_type": "markdown",
   "metadata": {},
   "source": [
    "Para cada item novo adicionado no input, o tempo de execução será dobrado.\n",
    "\n",
    "O(2^n) onde o n = numero de elementos (4) demora x.\n",
    "Se o n passa a ser 5, demora 2x."
   ]
  },
  {
   "cell_type": "markdown",
   "metadata": {},
   "source": [
    "## O(n!) - Factorial Time:\n",
    "\n",
    "Gerar todas as permutações entre o array.\n",
    "\n",
    "[1, 2] = 1 - 2 - 12 - 21<br>\n",
    "[1, 2, 3] = 1 - 3 - 12 - 21 - 13 - 31 - 23 - 32<br>\n",
    "\n",
    "Para cada novo item, aumenta fatorialmente o tempo de execução."
   ]
  },
  {
   "cell_type": "markdown",
   "metadata": {},
   "source": [
    "## OBSERVAÇÕES\n",
    "\n",
    "Sempre ser pessimista referente ao tempo de execução, considerar que em uma busca de um item em uma lista, ele sempre estará na ultima posição, ou seja, percorrendo o array inteiro."
   ]
  }
 ],
 "metadata": {
  "kernelspec": {
   "display_name": "Python 3",
   "language": "python",
   "name": "python3"
  },
  "language_info": {
   "name": "python",
   "version": "3.10.12"
  }
 },
 "nbformat": 4,
 "nbformat_minor": 2
}
