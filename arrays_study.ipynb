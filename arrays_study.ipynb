{
 "cells": [
  {
   "cell_type": "markdown",
   "metadata": {},
   "source": [
    "# Arrays"
   ]
  },
  {
   "cell_type": "markdown",
   "metadata": {},
   "source": [
    "Isso não é um array:"
   ]
  },
  {
   "cell_type": "code",
   "execution_count": null,
   "metadata": {},
   "outputs": [],
   "source": [
    "#Javascript\n",
    "let a = []"
   ]
  },
  {
   "cell_type": "markdown",
   "metadata": {},
   "source": [
    "##### Um array é um espaço continuo de memória que pode ser interpretado como tendo varios elementos.\n",
    "\n",
    "Em teoria o array é o mesmo:\n",
    "- 4 elementos de 4 bits<br>\n",
    "[0000 1111 0000 1111]\n",
    "\n",
    "- 2 elementos de 8 bits<br>\n",
    "[00001111 00001111]\n",
    "\n",
    "- 1 elemento de 16bits<br>\n",
    "[0000111100001111]\n",
    "\n",
    "O array é o mesmo, mas o que muda é como interpretamos ele."
   ]
  },
  {
   "cell_type": "code",
   "execution_count": null,
   "metadata": {},
   "outputs": [],
   "source": [
    "#RUST\n",
    "let my_array: [i32; 4] = [1, 2, 3, 4];"
   ]
  },
  {
   "cell_type": "markdown",
   "metadata": {},
   "source": [
    "Isso é a declaração de um array de 4 espaços para inteiros de 32 bits.\n",
    "\n",
    "Como o array é uma lista sequencial de elementos, é complexo mudar o tamanho dele após a inicialização, pois ele necessita de que exista espaço sequencial suficiente para alocar todos os elementos do array, e fazer a realocação seria um processo de movimentação de memória tremendo, tornando tudo muito lento.\n"
   ]
  }
 ],
 "metadata": {
  "language_info": {
   "name": "python"
  }
 },
 "nbformat": 4,
 "nbformat_minor": 2
}
