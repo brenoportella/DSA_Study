{
 "cells": [
  {
   "cell_type": "markdown",
   "metadata": {},
   "source": [
    "## Linked List\n",
    "\n",
    "A linked list não está sequencialmente alocada na memória. É uma lista de itens não sequenciais, onde o primeiro item aponta para o endereço do segundo item.\n",
    "\n",
    "Caso os ponteiros apontem em ambas as direções, ou seja, tanto para o item a seguir como para o item anterior, ela deixa de ser uma Single Linked List (onde item aponta apenas para o próximo) e passa ser uma Double Linked List (onde o item aponta para o próximo e para o anterior).\n",
    "\n"
   ]
  },
  {
   "cell_type": "markdown",
   "metadata": {},
   "source": [
    "### Array x Linked List\n",
    "\n",
    "#### Leitura:\n",
    "Array:<br>\n",
    "É sequencial ou seja, encontrar um item nele é C.T. O(1);\n",
    "<br>\n",
    "A velocidade de LEITURA do array é mais rapida, já que os itens estão sequencialmente alocados na memória.<br>\n",
    "\n",
    "Linked List:<br>\n",
    "Para encontrar o tamanho de uma linked list, é necessário percorrer toda a linked list. E para procurar um item na linked list, também é necessário percorrer toda ela, já que o item atual somente aponta para o próximo item. Sendo assim uma LEITURA C.T. O(n). Mas também pode ser O(1), no melhor dos casos.\n",
    "\n",
    "#### Inserção:\n",
    "Array:<br>\n",
    "Muito complexo, porque é necessário percorrer todos os items do array e realocar em outro espaço sequencial do tamanho da memória nova desejada. Portanto C.T. O(n).\n",
    "\n",
    "Linked list:<br>\n",
    "No melhor dos casos, quando é necessário inserir algo no inicio ou no fim da linked list, a complexidade temporal é O(1), já que é fácil saber onde está o inicio e o fim da linked list.<br>\n",
    "Mas caso a inserção seja no meio da linked list, será O(n), porque será necessário percorrer toda a linked list para identificar a posição desejada.<br>\n",
    "\n",
    "#### Deletar:\n",
    "Array:<br>\n",
    "Se eu souber qual item estou deletando, é C.T. O(1).\n",
    "Mas se eu não souber, então é C.T. O(n).\n",
    "\n",
    "Linked list:<br>\n",
    "No melhor dos casos, quando eu já tenho o ponteiro para aquele item, C.T. O(1). No pior dos casos, quando tenho de procurar pelo item C.T. O(n)."
   ]
  }
 ],
 "metadata": {
  "language_info": {
   "name": "python"
  }
 },
 "nbformat": 4,
 "nbformat_minor": 2
}
